{
 "cells": [
  {
   "cell_type": "markdown",
   "metadata": {},
   "source": [
    "# Coursera - Machine Learning with Python\n",
    "### Week 1 Material\n",
    "\n",
    "Date: March 17, 2020\n",
    "\n",
    "**Introduction to Machine Learning:** \n",
    "\n",
    "The material covers an overview of machine learning and what it means exactly. The main techniques of ML are:\n",
    "\n",
    "- Regression or Estimation\n",
    "- Classification\n",
    "- Clustering\n",
    "- Associations (Events that occur together e.g. shopping)\n",
    "- Anomaly Detection (Credit card fraud)\n",
    "- Sequence Mining (Links that are clicked on websites)\n",
    "- Dimension Reduction\n",
    "- Recommendation Systems (Netflix)\n",
    "\n",
    "Machine Learning Pipeline (The usual tasks)\n",
    "\n",
    "Data Pre-processing -> Train/Test Split -> Alogirthim Setup -> Model Fitting -> Prediction -> Evaluation -> Model Export\n",
    "\n",
    "**Difference between AI/ML/Deep Learning**\n",
    "\n",
    "AI covers cognitive capabilities with machines (computer vision, language processing, creativity...etc)\n",
    "ML is a subset of AI that covers the statistical analysis aspect of AI (techniques listed above)\n",
    "Deep learning is a subset of ML where there is a deeper level of automation in the ML alogirthms\n",
    "\n",
    "**Machine Learning on Python**\n",
    "\n",
    "Important Libraries:\n",
    "\n",
    "1- NumPy\n",
    "\n",
    "2- SciPy\n",
    "\n",
    "3- Matplotlib\n",
    "\n",
    "4- Pandas\n",
    "\n",
    "5- SciKitLearn\n",
    "\n",
    "\n",
    "**Supervised vs. Unsupervised Learning** \n",
    "\n",
    "Supervised learning: Trains by teaching the algorithim with a ***labeled*** data set. \n",
    "\n",
    "Classification and Regression is considered supervised learning.\n",
    "\n",
    "Unsupervised learning: Trains on the dataset and draws conclusions from ***unlabeled*** data set. More difficult than supervised.\n",
    "\n",
    "Clustering and Dimension reduction are considered unsupervised learning.\n",
    "\n",
    "\n"
   ]
  },
  {
   "cell_type": "code",
   "execution_count": null,
   "metadata": {},
   "outputs": [],
   "source": []
  },
  {
   "cell_type": "code",
   "execution_count": null,
   "metadata": {},
   "outputs": [],
   "source": []
  }
 ],
 "metadata": {
  "kernelspec": {
   "display_name": "Python 3",
   "language": "python",
   "name": "python3"
  },
  "language_info": {
   "codemirror_mode": {
    "name": "ipython",
    "version": 3
   },
   "file_extension": ".py",
   "mimetype": "text/x-python",
   "name": "python",
   "nbconvert_exporter": "python",
   "pygments_lexer": "ipython3",
   "version": "3.7.4"
  }
 },
 "nbformat": 4,
 "nbformat_minor": 4
}
