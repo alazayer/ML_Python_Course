{
 "cells": [
  {
   "cell_type": "markdown",
   "metadata": {},
   "source": [
    "### Coursera - Machine Learning with Python\n",
    "### Week 5 Material\n",
    "\n",
    "Date: March 18, 2020\n",
    "\n",
    "## Recommender Systems\n",
    "\n",
    "Two main types of recommender systems:\n",
    "\n",
    "- Content Based: Show me more of what I liked before (Creates a profile of the user and what content they like)\n",
    "- Collaborative Filtering: Tell me what's popular among my neighbors (Finds similiarities between user and other users or between items liked by other users)\n",
    "\n",
    "There are two implementations of recommender systems:\n",
    "\n",
    "- Memory Based: uses entire user-item data set and uses statistical techniques (Euclidean distance, Pearson Correlation)\n",
    "- Model Based: A model of users are created (e.g. Clustering, Regression, Classification)\n",
    "\n"
   ]
  },
  {
   "cell_type": "markdown",
   "metadata": {},
   "source": [
    "\n"
   ]
  }
 ],
 "metadata": {
  "kernelspec": {
   "display_name": "Python 3",
   "language": "python",
   "name": "python3"
  },
  "language_info": {
   "codemirror_mode": {
    "name": "ipython",
    "version": 3
   },
   "file_extension": ".py",
   "mimetype": "text/x-python",
   "name": "python",
   "nbconvert_exporter": "python",
   "pygments_lexer": "ipython3",
   "version": "3.7.4"
  }
 },
 "nbformat": 4,
 "nbformat_minor": 4
}
