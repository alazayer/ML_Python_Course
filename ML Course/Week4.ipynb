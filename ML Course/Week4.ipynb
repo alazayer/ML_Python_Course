{
 "cells": [
  {
   "cell_type": "markdown",
   "metadata": {},
   "source": [
    "### Coursera - Machine Learning with Python\n",
    "### Week 4 Material\n",
    "\n",
    "Date: March 18, 2020\n",
    "\n",
    "## Clustering\n",
    "\n",
    "An unsupervised approach to classify data (Applys to unlabeled data vs. labeled data). Main algorithms in clustering are:\n",
    "\n",
    "- Partition Based: Produces non-overlapping subsets (k-means, Fuzzy c-means)\n",
    "- Hierarchical: Produces trees\n",
    "- Density Based: Produces arbitrary shaped clusters"
   ]
  },
  {
   "cell_type": "markdown",
   "metadata": {},
   "source": [
    "### K-Means\n",
    "\n",
    "Tries to minimize *Intra cluster* distances and maximize *Inter cluster* distances. The algorithm works as follows\n",
    "\n",
    "- Initialize k centeroids\n",
    "- Calculate distances between each data point and all centeroids\n",
    "- Assign each point to the closest centroid\n",
    "- Centeroids are moved to the mean of its respective data set\n",
    "- This is repeated until the centeroids don't move\n",
    "\n",
    "Error is calculated by the sum of all distances between the data points and their respective centeroids. This should be done multiple times with different initial centeroids location.\n",
    "\n",
    "**K-means Accuracy**\n",
    "\n",
    "Either compare with the knows classification (usually not available). The other option is to use average distances to centeroids.\n",
    "\n",
    "The choice of 'K' impacts this value. However, error will always be reduced as we increase K. The \"elbow point\" is where the slope of the plot of Mean Error vs. K changes and can be considered the optimum K.\n",
    "\n",
    "\n"
   ]
  },
  {
   "cell_type": "markdown",
   "metadata": {},
   "source": [
    "### Hierarchical Clustering\n",
    "\n",
    "Builds a hierarchy of clusters where each node is a cluster of its daughter nodes. They can be either:\n",
    "\n",
    "- Divisive: Starting at the top\n",
    "- Agglomerative: Starting at the bottom (more popular)\n",
    "\n",
    "Agglomerative is done by computing the distance between all nodes and clustering the two closest nodes. The new cluster replaces the individual nodes in the distance matrix, which is then recomputed. This process is repeated until we have one main cluster. They are usually visualized on dendograms. \n",
    "\n",
    "There are different ways to compute distance between different clusters once they're formed, which are:\n",
    "\n",
    "- Single Linkage: Minimum distance\n",
    "- Complete Linkage: Maximum distance\n",
    "- Average Linkage: Average distance\n",
    "- Centeroid Linkage: Distance between centeroids"
   ]
  },
  {
   "cell_type": "markdown",
   "metadata": {},
   "source": [
    "### Density Based Spatial Clustering of Application with Noise (DBSCAN)\n",
    "\n",
    "Appropriate for spatial data. The advantage of DBSCAN of K-means is that does not necessarily include outliers (not affected by noise). Works on the following parameters:\n",
    "\n",
    "- Radius of Neighberhood (R)\n",
    "- Minimum number of Neighbors (M)\n",
    "\n",
    "Each point in the dataset can be a:\n",
    "\n",
    "- Core\n",
    "- Border\n",
    "- Outlier\n",
    "\n",
    "We check each points surrounding (R) and if there are:\n",
    "\n",
    "- M points, we label it as core.\n",
    "- Less than M points, but is within the vicinity of a core point, we label it as a border point.\n",
    "- Anything else is an outlier.\n",
    "\n"
   ]
  },
  {
   "cell_type": "code",
   "execution_count": null,
   "metadata": {},
   "outputs": [],
   "source": []
  }
 ],
 "metadata": {
  "kernelspec": {
   "display_name": "Python 3",
   "language": "python",
   "name": "python3"
  },
  "language_info": {
   "codemirror_mode": {
    "name": "ipython",
    "version": 3
   },
   "file_extension": ".py",
   "mimetype": "text/x-python",
   "name": "python",
   "nbconvert_exporter": "python",
   "pygments_lexer": "ipython3",
   "version": "3.7.4"
  }
 },
 "nbformat": 4,
 "nbformat_minor": 4
}
